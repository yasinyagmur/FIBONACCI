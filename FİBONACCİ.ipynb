{
  "nbformat": 4,
  "nbformat_minor": 0,
  "metadata": {
    "colab": {
      "name": "FİBONACCİ.ipynb",
      "provenance": [],
      "collapsed_sections": []
    },
    "kernelspec": {
      "name": "python3",
      "display_name": "Python 3"
    },
    "language_info": {
      "name": "python"
    }
  },
  "cells": [
    {
      "cell_type": "code",
      "execution_count": null,
      "metadata": {
        "colab": {
          "base_uri": "https://localhost:8080/"
        },
        "id": "VmzvYlAWqjdG",
        "outputId": "43c03d07-ca6f-4fa6-f8db-25458fffc664"
      },
      "outputs": [
        {
          "output_type": "stream",
          "name": "stdout",
          "text": [
            "Enter a number and see the fibonacci value of that number. :11\n",
            "0 1 1 2 3 5 8 13 21 34 55 "
          ]
        }
      ],
      "source": [
        "def fibonacci():\n",
        "  users = int(input(\"Enter a number and see the fibonacci value of that number. :\"))\n",
        "  counter = 0\n",
        "  first_number = 0\n",
        "  second_number = 1\n",
        "  \n",
        "  while users > counter:\n",
        "    print(first_number, end=(\" \"))\n",
        "    first_number, second_number = second_number, first_number + second_number\n",
        "    counter += 1\n",
        "\n",
        "\n",
        "fibonacci()\n"
      ]
    },
    {
      "cell_type": "code",
      "source": [
        ""
      ],
      "metadata": {
        "id": "rl6ReeKMA6d2"
      },
      "execution_count": null,
      "outputs": []
    }
  ]
}